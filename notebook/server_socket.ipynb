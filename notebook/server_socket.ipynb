{
 "cells": [
  {
   "cell_type": "code",
   "execution_count": 1,
   "id": "d73f18bb",
   "metadata": {},
   "outputs": [
    {
     "name": "stdout",
     "output_type": "stream",
     "text": [
      "Collecting tweepy==3.10.0\n",
      "  Using cached tweepy-3.10.0-py2.py3-none-any.whl (30 kB)\n",
      "Requirement already satisfied: requests-oauthlib>=0.7.0 in /home/ec2-user/anaconda3/envs/python3/lib/python3.6/site-packages (from tweepy==3.10.0) (1.3.1)\n",
      "Requirement already satisfied: requests[socks]>=2.11.1 in /home/ec2-user/anaconda3/envs/python3/lib/python3.6/site-packages (from tweepy==3.10.0) (2.27.1)\n",
      "Requirement already satisfied: six>=1.10.0 in /home/ec2-user/anaconda3/envs/python3/lib/python3.6/site-packages (from tweepy==3.10.0) (1.15.0)\n",
      "Requirement already satisfied: oauthlib>=3.0.0 in /home/ec2-user/anaconda3/envs/python3/lib/python3.6/site-packages (from requests-oauthlib>=0.7.0->tweepy==3.10.0) (3.2.0)\n",
      "Requirement already satisfied: certifi>=2017.4.17 in /home/ec2-user/anaconda3/envs/python3/lib/python3.6/site-packages (from requests[socks]>=2.11.1->tweepy==3.10.0) (2021.5.30)\n",
      "Requirement already satisfied: idna<4,>=2.5 in /home/ec2-user/anaconda3/envs/python3/lib/python3.6/site-packages (from requests[socks]>=2.11.1->tweepy==3.10.0) (3.1)\n",
      "Requirement already satisfied: urllib3<1.27,>=1.21.1 in /home/ec2-user/anaconda3/envs/python3/lib/python3.6/site-packages (from requests[socks]>=2.11.1->tweepy==3.10.0) (1.26.8)\n",
      "Requirement already satisfied: charset-normalizer~=2.0.0 in /home/ec2-user/anaconda3/envs/python3/lib/python3.6/site-packages (from requests[socks]>=2.11.1->tweepy==3.10.0) (2.0.9)\n",
      "Requirement already satisfied: PySocks!=1.5.7,>=1.5.6 in /home/ec2-user/anaconda3/envs/python3/lib/python3.6/site-packages (from requests[socks]>=2.11.1->tweepy==3.10.0) (1.7.1)\n",
      "Installing collected packages: tweepy\n",
      "  Attempting uninstall: tweepy\n",
      "    Found existing installation: tweepy 4.6.0\n",
      "    Uninstalling tweepy-4.6.0:\n",
      "      Successfully uninstalled tweepy-4.6.0\n",
      "Successfully installed tweepy-3.10.0\n"
     ]
    }
   ],
   "source": [
    "!pip install tweepy==3.10.0"
   ]
  },
  {
   "cell_type": "code",
   "execution_count": 2,
   "id": "aacba454",
   "metadata": {},
   "outputs": [],
   "source": [
    "import tweepy\n",
    "from tweepy import Stream\n",
    "from tweepy.streaming import StreamListener\n",
    "from tweepy import OAuthHandler\n",
    "import socket\n",
    "import json"
   ]
  },
  {
   "cell_type": "code",
   "execution_count": 3,
   "id": "44897adb",
   "metadata": {},
   "outputs": [],
   "source": [
    "consumer_key='your-consumer-key'\n",
    "consumer_secret='your-consumer-secret'\n",
    "access_token ='your-access-token'\n",
    "access_secret='your-acess-secret'"
   ]
  },
  {
   "cell_type": "code",
   "execution_count": 4,
   "id": "2e401ca8",
   "metadata": {},
   "outputs": [],
   "source": [
    "consumer_key='your-consumer-key'\n",
    "consumer_secret='your-consumer-secret'\n",
    "access_token ='your-access-token'\n",
    "access_secret='your-acess-secret'\n"
   ]
  },
  {
   "cell_type": "code",
   "execution_count": 5,
   "id": "ce95a012",
   "metadata": {},
   "outputs": [],
   "source": [
    "class TweetsListener(StreamListener):\n",
    "    def __init__(self,csocket):\n",
    "\n",
    "        self.client_socket = csocket\n",
    "\n",
    "    def on_data(self, data):\n",
    "        try:\n",
    "            msg = json.loads( data )\n",
    "            print(\"new message\")\n",
    "            # if tweet is longer than 140 characters\n",
    "            if \"extended_tweet\" in msg:\n",
    "                # add at the end of each tweet \"t_end\" \n",
    "                self.client_socket.send(str(msg['extended_tweet']['full_text']+\"t_end\").encode('utf-8'))         \n",
    "                print(msg['extended_tweet']['full_text'])\n",
    "            else:\n",
    "                # add at the end of each tweet \"t_end\" \n",
    "                self.client_socket.send(str(msg['text']+\"t_end\").encode('utf-8'))\n",
    "                print(msg['text'])\n",
    "            return True\n",
    "        except BaseException as e:\n",
    "            print(\"Error on_data: %s\" % str(e))\n",
    "        return True\n",
    "    def on_error(self, status):\n",
    "        print(status)\n",
    "        return True"
   ]
  },
  {
   "cell_type": "markdown",
   "id": "f8fafd6a",
   "metadata": {},
   "source": [
    "import boto3\n",
    "\n",
    "def decode_hashtags(hashtags):\n",
    "    # extract the hashtag symbol and turn multiple hashtags into a list\n",
    "    if hashtags:\n",
    "        return ', '.join(list(map(lambda x: x[\"text\"], hashtags)))\n",
    "    else:\n",
    "        return \"\"\n",
    "\n",
    "def aws_comprehend(text):\n",
    "    comprehend = boto3.client(service_name='comprehend', region_name='eu-west-1')\n",
    "\n",
    "    # Extracting Grammer syntax\n",
    "    syntax_response = comprehend.detect_sentiment(Text=text, LanguageCode=\"es\")\n",
    "    sentimiento = syntax_response[\"Sentiment\"]\n",
    "\n",
    "\n",
    "    mixed_score = syntax_response[\"SentimentScore\"][\"Mixed\"]\n",
    "    mixed_score = str(\"{:.8f}\".format(float(mixed_score)))\n",
    "\n",
    "    negative_score = syntax_response[\"SentimentScore\"][\"Negative\"]\n",
    "    negative_score = str(\"{:.8f}\".format(float(negative_score)))\n",
    "\n",
    "    neutral_score = syntax_response[\"SentimentScore\"][\"Neutral\"]\n",
    "    neutral_score = str(\"{:.8f}\".format(float(neutral_score)))\n",
    "\n",
    "    positive_score = syntax_response[\"SentimentScore\"][\"Positive\"]\n",
    "    positive_score = str(\"{:.8f}\".format(float(positive_score)))\n",
    "    data = {'sentimiento': sentimiento, 'mixed_score':mixed_score,'negative_score':negative_score,'neutral_score':neutral_score,'positive_score':positive_score}\n",
    "    return data\n",
    "\n",
    "\n",
    "\n",
    "class TweetsListener(StreamListener):\n",
    "    def __init__(self,csocket):\n",
    "\n",
    "        self.client_socket = csocket\n",
    "\n",
    "    def on_data(self, data):\n",
    "        tweet = json.loads(data)\n",
    "\n",
    "        if \"extended_tweet\" in tweet.keys():\n",
    "            # print(dict_data[\"created_at\"],  dict_data[\"extended_tweet\"][\"full_text\"])\n",
    "            # TODO: rewrite it into a function to process the tweet text\n",
    "            tweet_text = tweet[\"extended_tweet\"]['full_text'].split('  ')#.replace('\\n', ' ').replace('\\r', ' ')\n",
    "            tweet_text = ''.join(tweet_text).replace('\\n',' ').replace('\\r', ' ')\n",
    "            hashtags = tweet[\"extended_tweet\"][\"entities\"][\"hashtags\"]\n",
    "        if \"text\" in tweet.keys():\n",
    "            tweet_text = tweet[\"text\"].split('  ')\n",
    "            tweet_text = ''.join(tweet_text).replace('\\n', ' ').replace('\\r', ' ')\n",
    "            hashtags = tweet[\"entities\"][\"hashtags\"]\n",
    "        else:\n",
    "            return None\n",
    "        retweet = False\n",
    "\n",
    "        \n",
    "        # special handle to retweet\n",
    "        if \"retweeted_status\" in tweet.keys():\n",
    "\n",
    "            if \"extended_tweet\" in tweet[\"retweeted_status\"]:\n",
    "                # print(\"this is a retweet and there is 'extended_tweet' file\")\n",
    "                tweet_text = tweet[\"retweeted_status\"][\"extended_tweet\"]['full_text'].split('  ')\n",
    "                tweet_text = ''.join(tweet_text).replace('\\n', ' ').replace('\\r', ' ')\n",
    "                hashtags = tweet[\"retweeted_status\"][\"extended_tweet\"][\"entities\"][\"hashtags\"]\n",
    "            elif \"text\" in tweet[\"retweeted_status\"]:\n",
    "                tweet_text = tweet[\"retweeted_status\"][\"text\"].split('  ')\n",
    "                tweet_text = ''.join(tweet_text).replace('\\n', ' ').replace('\\r', ' ')\n",
    "                hashtags = tweet[\"retweeted_status\"][\"entities\"][\"hashtags\"]\n",
    "            else:\n",
    "                return None\n",
    "\n",
    "            retweet = True   \n",
    "        \n",
    "        if \"user\" in tweet.keys():\n",
    "            if \"location\" in tweet['user']:\n",
    "                if not None == tweet['user']['location']:\n",
    "                    user_location = tweet[\"user\"][\"location\"].split('  ')\n",
    "                    user_location = ''.join(user_location).replace('\\n', ' ').replace('\\r', ' ')\n",
    "                else:\n",
    "                    user_location = \"\"\n",
    "                    \n",
    "        if \"user\" in tweet.keys():\n",
    "            if \"url\" in tweet['user']:\n",
    "                if not None == tweet['user']['url']:\n",
    "                    user_url = tweet[\"user\"][\"url\"].split('  ')\n",
    "                    user_url = ''.join(user_url).replace('\\n', ' ').replace('\\r', ' ')\n",
    "                else:\n",
    "                    user_url = \"\"     \n",
    "\n",
    "        if \"user\" in tweet.keys():\n",
    "            if \"description\" in tweet['user']:\n",
    "                if not None == tweet['user']['description']:\n",
    "                    user_description = tweet[\"user\"][\"description\"].split('  ')\n",
    "                    user_description = ''.join(user_description).replace('\\n', ' ').replace('\\r', ' ')\n",
    "                else:\n",
    "                    user_description = \"\" \n",
    "                    \n",
    "        if \"entities\" in tweet.keys():\n",
    "            try:\n",
    "                if \"user_mentions\" in tweet['entities']:\n",
    "                    if \"screen_name\" in tweet['entities']['user_mentions'][0]:\n",
    "                        screen_name_user_mentions = tweet['entities']['user_mentions'][0]['screen_name'].replace('\\n', ' ').replace('\\r', ' ')\n",
    "                    else:\n",
    "                        screen_name_user_mentions = \"\"\n",
    "                else:\n",
    "                    screen_name_user_mentions = \"\"\n",
    "            except IndexError as x:\n",
    "                screen_name_user_mentions = \"\"\n",
    "                \n",
    "                \n",
    "        if \"entities\" in tweet.keys():\n",
    "            try:\n",
    "                if \"user_mentions\" in tweet['entities']:\n",
    "                    if \"name\" in tweet['entities']['user_mentions'][0]:\n",
    "                        name_user_mentions = tweet['entities']['user_mentions'][0]['name'].replace('\\n', ' ').replace('\\r', ' ')\n",
    "                    else:\n",
    "                        name_user_mentions = \"\"\n",
    "                else:\n",
    "                    name_user_mentions = \"\"\n",
    "            except IndexError as x:\n",
    "                name_user_mentions = \"\"\n",
    "                \n",
    "                \n",
    "        if \"entities\" in tweet.keys():\n",
    "            try:\n",
    "                if \"user_mentions\" in tweet['entities']:\n",
    "                    if \"id_str\" in tweet['entities']['user_mentions'][0]:\n",
    "                        id_user_mentions = tweet['entities']['user_mentions'][0]['id_str'].replace('\\n', ' ').replace('\\r', ' ')\n",
    "                    else:\n",
    "                        id_user_mentions = \"\"\n",
    "                else:\n",
    "                    id_user_mentions = \"\"\n",
    "            except IndexError as x:\n",
    "                id_user_mentions = \"\"\n",
    "                \n",
    "                \n",
    "        if \"geo\" in tweet.keys():\n",
    "            if not None == tweet['geo']:\n",
    "                tweet_geo = tweet['geo']\n",
    "            else:\n",
    "                tweet_geo = \"\"\n",
    "        else:\n",
    "            tweet_geo = \"\"\n",
    "\n",
    "        try:\n",
    "            payload = {\n",
    "                'tweet': str(tweet_text).encode('utf-8').decode('utf-8'),#.encode('utf-8'), #modificar codificacion \n",
    "                'hashtags': str(decode_hashtags(hashtags)),# cuando son campos None es mejor validar y pasar a \"\" x\n",
    "                'tweet_created_at': str(tweet['created_at']),\n",
    "                'retweet_count':tweet[\"retweet_count\"],\n",
    "                'tweet_favorite_count':tweet[\"favorite_count\"],\n",
    "                'retweet':retweet,\n",
    "                'truncated':tweet[\"truncated\"],\n",
    "                'tweet_id': str(tweet['id']),\n",
    "                'reply_count': (tweet['reply_count']),\n",
    "                'user_id_str': tweet['user']['id_str'], #id del user\n",
    "                'user_name':tweet['user']['name'].encode('utf-8').decode('utf-8'),\n",
    "                'user_screen_name':tweet['user']['screen_name'],\n",
    "                'user_location': str(user_location).encode('utf-8').decode('utf-8'),# cuando son campos None es mejor validar y pasar a \"\" x\n",
    "                'user_url': str(user_url), # lo mismo de arriba\n",
    "                'user_description': str(user_description).encode('utf-8').decode('utf-8'), # lo mismo de arriba\n",
    "                'user_protected': tweet['user']['protected'],\n",
    "                'user_verified': tweet['user']['verified'],\n",
    "                'user_followers_count': tweet['user']['followers_count'],\n",
    "                'user_friends_count': tweet['user']['friends_count'],\n",
    "                'user_listed_count': tweet['user']['listed_count'],\n",
    "                'user_favourites_count': tweet['user']['favourites_count'],\n",
    "                'user_statuses_count': tweet['user']['statuses_count'],\n",
    "                'user_created_at': str(tweet['user']['created_at']),\n",
    "                'user_profile_use_background_image': tweet['user']['profile_use_background_image'], # bool\n",
    "                'user_profile_image_url_https':str(tweet['user']['profile_image_url_https']),\n",
    "                'user_default_profile_background': tweet['user']['default_profile'],# si no tiene background es True, oseaa, tiene el de defecto is bool\n",
    "                'user_default_profile_image': tweet['user']['default_profile_image'],\n",
    "                'screen_name_user_mentions': str(screen_name_user_mentions), #list index out range validate if not is  \"\"\n",
    "                'name_user_mentions': str(name_user_mentions).encode('utf-8').decode('utf-8'),\n",
    "                'id_user_mentions': str(id_user_mentions),\n",
    "                'geo': str(tweet_geo),\n",
    "                'tweet_sentiment': aws_comprehend(tweet_text)\n",
    "            }\n",
    "            # only put the record when message is not None\n",
    "            if (payload):\n",
    "                # print(payload)\n",
    "                # note that payload is a list\n",
    "                #print(payload)\n",
    "                #Data getting deliverd to Kinesis\n",
    "                self.client_socket.send(str(payload['tweet']))\n",
    "\n",
    "            return True\n",
    "        except BaseException as e:\n",
    "            print(\"Error on_data: %s\" % str(e))\n",
    "        return True\n",
    "    def on_error(self, status):\n",
    "        print(status)\n",
    "        return True"
   ]
  },
  {
   "cell_type": "code",
   "execution_count": 6,
   "id": "45443fc2",
   "metadata": {},
   "outputs": [],
   "source": [
    "def sendData(c_socket, keyword):\n",
    "    print('start sending data from Twitter to socket')\n",
    "    # authentication based on the credentials\n",
    "    auth = OAuthHandler(consumer_key, consumer_secret)\n",
    "    auth.set_access_token(access_token, access_secret)\n",
    "    # start sending data from the Streaming API \n",
    "    twitter_stream = Stream(auth, TweetsListener(c_socket))\n",
    "    twitter_stream.filter(track = keyword, languages=[\"es\"])"
   ]
  },
  {
   "cell_type": "code",
   "execution_count": 7,
   "id": "0e93bccd",
   "metadata": {},
   "outputs": [],
   "source": [
    "from pyspark.sql import SparkSession\n",
    "from pyspark.sql.functions import *\n",
    "from pyspark.sql.types import *\n",
    "from pyspark.sql import functions as F\n",
    "from textblob import TextBlob"
   ]
  },
  {
   "cell_type": "code",
   "execution_count": null,
   "id": "d35793c3",
   "metadata": {},
   "outputs": [
    {
     "name": "stdout",
     "output_type": "stream",
     "text": [
      "socket is ready\n",
      "socket is listening\n",
      "Received request from: ('172.16.110.99', 37596)\n",
      "start sending data from Twitter to socket\n"
     ]
    }
   ],
   "source": [
    "if __name__ == \"__main__\":\n",
    "    # server (local machine) creates listening socket\n",
    "    s = socket.socket()\n",
    "    host = \"0.0.0.0\"    \n",
    "    port = 5554\n",
    "    s.bind((host, port))\n",
    "    print('socket is ready')\n",
    "    # server (local machine) listens for connections\n",
    "    s.listen(4)\n",
    "    print('socket is listening')\n",
    "    # return the socket and the address on the other side of the connection (client side)\n",
    "    c_socket, addr = s.accept()\n",
    "    print(\"Received request from: \" + str(addr))\n",
    "    # select here the keyword for the tweet data\n",
    "    sendData(c_socket, keyword = ['esteban-streaming-spark'])"
   ]
  },
  {
   "cell_type": "code",
   "execution_count": 2,
   "id": "d40927ed",
   "metadata": {},
   "outputs": [
    {
     "name": "stdout",
     "output_type": "stream",
     "text": [
      "/home/ec2-user/SageMaker/rrss-caracol-01/Twitter Stream Caracol/streaming\n"
     ]
    }
   ],
   "source": [
    "!pwd"
   ]
  },
  {
   "cell_type": "code",
   "execution_count": 3,
   "id": "6ac62378",
   "metadata": {},
   "outputs": [
    {
     "name": "stdout",
     "output_type": "stream",
     "text": [
      "parc  server_socket.ipynb  user_socket.ipynb\n"
     ]
    }
   ],
   "source": [
    "!ls"
   ]
  },
  {
   "cell_type": "code",
   "execution_count": 4,
   "id": "a1785561",
   "metadata": {},
   "outputs": [],
   "source": [
    "!sudo rm -r parc"
   ]
  },
  {
   "cell_type": "code",
   "execution_count": 5,
   "id": "9c6b5cee",
   "metadata": {},
   "outputs": [],
   "source": [
    "!mkdir parc"
   ]
  },
  {
   "cell_type": "code",
   "execution_count": 7,
   "id": "5a076b8e",
   "metadata": {},
   "outputs": [
    {
     "name": "stdout",
     "output_type": "stream",
     "text": [
      "parc  server_socket.ipynb  user_socket.ipynb\n"
     ]
    }
   ],
   "source": [
    "!ls"
   ]
  },
  {
   "cell_type": "code",
   "execution_count": null,
   "id": "4959196b",
   "metadata": {},
   "outputs": [],
   "source": []
  }
 ],
 "metadata": {
  "kernelspec": {
   "display_name": "conda_python3",
   "language": "python",
   "name": "conda_python3"
  },
  "language_info": {
   "codemirror_mode": {
    "name": "ipython",
    "version": 3
   },
   "file_extension": ".py",
   "mimetype": "text/x-python",
   "name": "python",
   "nbconvert_exporter": "python",
   "pygments_lexer": "ipython3",
   "version": "3.6.13"
  }
 },
 "nbformat": 4,
 "nbformat_minor": 5
}
